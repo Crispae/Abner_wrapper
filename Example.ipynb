{
 "cells": [
  {
   "cell_type": "code",
   "execution_count": 165,
   "id": "5ce8b155",
   "metadata": {},
   "outputs": [],
   "source": [
    "from jnius import autoclass"
   ]
  },
  {
   "cell_type": "code",
   "execution_count": 173,
   "id": "b4c5ec56",
   "metadata": {},
   "outputs": [],
   "source": [
    "Tagger = autoclass(\"abner.Tagger\")"
   ]
  },
  {
   "cell_type": "code",
   "execution_count": 174,
   "id": "80f1b3d6",
   "metadata": {},
   "outputs": [
    {
     "name": "stderr",
     "output_type": "stream",
     "text": [
      "Loading default NLPBA tagging module...\n"
     ]
    }
   ],
   "source": [
    "t = Tagger()"
   ]
  },
  {
   "cell_type": "code",
   "execution_count": 175,
   "id": "22c3c5ab",
   "metadata": {},
   "outputs": [],
   "source": [
    "text = \"\"\"Nuclear factor erythroid 2-related factor 2 (NRF2) is a transcription factor that regulates the cellular defense against toxic and oxidative insults through the expression of genes involved in oxidative stress response and drug detoxification. NRF2 activation renders cells resistant to chemical carcinogens and inflammatory challenges. In addition to antioxidant responses, NRF2 is involved in many other cellular processes, including metabolism and inflammation, and its functions are beyond the originally envisioned. NRF2 activity is tightly regulated through a complex transcriptional and post-translational network that enables it to orchestrate the cell's response and adaptation to various pathological stressors for the homeostasis maintenance. Elevated or decreased NRF2 activity by pharmacological and genetic manipulations of NRF2 activation is associated with many metabolism- or inflammation-related diseases. Emerging evidence shows that NRF2 lies at the center of a complex regulatory network and establishes NRF2 as a truly pleiotropic transcription factor. Here we summarize the complex regulatory network of NRF2 activity and its roles in metabolic reprogramming, unfolded protein response, proteostasis, autophagy, mitochondrial biogenesis, inflammation, and immunity. \"\"\""
   ]
  },
  {
   "cell_type": "code",
   "execution_count": 176,
   "id": "3b1fe99d",
   "metadata": {},
   "outputs": [],
   "source": [
    "annotated_text = t.getEntities(text.strip())"
   ]
  },
  {
   "cell_type": "code",
   "execution_count": 177,
   "id": "31433320",
   "metadata": {},
   "outputs": [],
   "source": [
    "entites = annotated_text[0]"
   ]
  },
  {
   "cell_type": "code",
   "execution_count": 178,
   "id": "cf07c497",
   "metadata": {},
   "outputs": [],
   "source": [
    "pattern = r\"|\".join(entites)"
   ]
  },
  {
   "cell_type": "code",
   "execution_count": 179,
   "id": "dd658069",
   "metadata": {},
   "outputs": [],
   "source": [
    "\n",
    "matches = re.finditer(pattern, text)\n",
    "\n",
    "entites_list =[]\n",
    "for idx,match in enumerate(matches):\n",
    "    start_index = match.start()\n",
    "    end_index = match.end() \n",
    "    match_text = match.group()\n",
    "    entity_type = annotated_text[1][idx]\n",
    "    \n",
    "    entites_dict ={\"start\":start_index,\n",
    "                  \"end\":end_index,\n",
    "                  \"word\":match_text,\n",
    "                  \"entity_type\":entity_type.lower()}\n",
    "    entites_list.append(entites_dict)\n",
    "    \n"
   ]
  },
  {
   "cell_type": "code",
   "execution_count": 180,
   "id": "b77256a9",
   "metadata": {},
   "outputs": [
    {
     "data": {
      "text/plain": [
       "[{'start': 45, 'end': 49, 'word': 'NRF2', 'entity_type': 'protein'},\n",
       " {'start': 56,\n",
       "  'end': 76,\n",
       "  'word': 'transcription factor',\n",
       "  'entity_type': 'protein'},\n",
       " {'start': 244, 'end': 248, 'word': 'NRF2', 'entity_type': 'protein'},\n",
       " {'start': 375, 'end': 379, 'word': 'NRF2', 'entity_type': 'protein'},\n",
       " {'start': 521, 'end': 525, 'word': 'NRF2', 'entity_type': 'protein'},\n",
       " {'start': 566,\n",
       "  'end': 620,\n",
       "  'word': 'complex transcriptional and post-translational network',\n",
       "  'entity_type': 'protein'},\n",
       " {'start': 776, 'end': 780, 'word': 'NRF2', 'entity_type': 'protein'},\n",
       " {'start': 838, 'end': 842, 'word': 'NRF2', 'entity_type': 'protein'},\n",
       " {'start': 953, 'end': 957, 'word': 'NRF2', 'entity_type': 'protein'},\n",
       " {'start': 982,\n",
       "  'end': 1008,\n",
       "  'word': 'complex regulatory network',\n",
       "  'entity_type': 'protein'},\n",
       " {'start': 1025, 'end': 1029, 'word': 'NRF2', 'entity_type': 'protein'},\n",
       " {'start': 1041,\n",
       "  'end': 1073,\n",
       "  'word': 'pleiotropic transcription factor',\n",
       "  'entity_type': 'protein'},\n",
       " {'start': 1097,\n",
       "  'end': 1123,\n",
       "  'word': 'complex regulatory network',\n",
       "  'entity_type': 'protein'},\n",
       " {'start': 1127, 'end': 1131, 'word': 'NRF2', 'entity_type': 'protein'}]"
      ]
     },
     "execution_count": 180,
     "metadata": {},
     "output_type": "execute_result"
    }
   ],
   "source": [
    "entites_list"
   ]
  },
  {
   "cell_type": "code",
   "execution_count": null,
   "id": "8045e872",
   "metadata": {},
   "outputs": [],
   "source": []
  }
 ],
 "metadata": {
  "kernelspec": {
   "display_name": "Python 3 (ipykernel)",
   "language": "python",
   "name": "python3"
  },
  "language_info": {
   "codemirror_mode": {
    "name": "ipython",
    "version": 3
   },
   "file_extension": ".py",
   "mimetype": "text/x-python",
   "name": "python",
   "nbconvert_exporter": "python",
   "pygments_lexer": "ipython3",
   "version": "3.10.9"
  }
 },
 "nbformat": 4,
 "nbformat_minor": 5
}
